{
 "cells": [
  {
   "cell_type": "code",
   "execution_count": 1,
   "metadata": {
    "collapsed": false
   },
   "outputs": [],
   "source": [
    "import numpy as np\n",
    "import pandas as pd\n",
    "import seaborn as sns\n",
    "import matplotlib.pyplot as plt\n",
    "%matplotlib inline"
   ]
  },
  {
   "cell_type": "code",
   "execution_count": 2,
   "metadata": {
    "collapsed": false
   },
   "outputs": [],
   "source": [
    "iPadTrain = pd.read_csv('./data/eBayiPadTrain.csv', index_col='UniqueID')\n",
    "iPadTest = pd.read_csv('./data/eBayiPadTest.csv', index_col='UniqueID')"
   ]
  },
  {
   "cell_type": "code",
   "execution_count": 3,
   "metadata": {
    "collapsed": false
   },
   "outputs": [
    {
     "data": {
      "text/html": [
       "<div>\n",
       "<table border=\"1\" class=\"dataframe\">\n",
       "  <thead>\n",
       "    <tr style=\"text-align: right;\">\n",
       "      <th></th>\n",
       "      <th>description</th>\n",
       "      <th>biddable</th>\n",
       "      <th>startprice</th>\n",
       "      <th>condition</th>\n",
       "      <th>cellular</th>\n",
       "      <th>carrier</th>\n",
       "      <th>color</th>\n",
       "      <th>storage</th>\n",
       "      <th>productline</th>\n",
       "      <th>sold</th>\n",
       "    </tr>\n",
       "    <tr>\n",
       "      <th>UniqueID</th>\n",
       "      <th></th>\n",
       "      <th></th>\n",
       "      <th></th>\n",
       "      <th></th>\n",
       "      <th></th>\n",
       "      <th></th>\n",
       "      <th></th>\n",
       "      <th></th>\n",
       "      <th></th>\n",
       "      <th></th>\n",
       "    </tr>\n",
       "  </thead>\n",
       "  <tbody>\n",
       "    <tr>\n",
       "      <th>10001</th>\n",
       "      <td>iPad is in 8.5+ out of 10 cosmetic condition!</td>\n",
       "      <td>0</td>\n",
       "      <td>159.99</td>\n",
       "      <td>Used</td>\n",
       "      <td>0</td>\n",
       "      <td>None</td>\n",
       "      <td>Black</td>\n",
       "      <td>16</td>\n",
       "      <td>iPad 2</td>\n",
       "      <td>0</td>\n",
       "    </tr>\n",
       "    <tr>\n",
       "      <th>10002</th>\n",
       "      <td>Previously used, please read description. May ...</td>\n",
       "      <td>1</td>\n",
       "      <td>0.99</td>\n",
       "      <td>Used</td>\n",
       "      <td>1</td>\n",
       "      <td>Verizon</td>\n",
       "      <td>Unknown</td>\n",
       "      <td>16</td>\n",
       "      <td>iPad 2</td>\n",
       "      <td>1</td>\n",
       "    </tr>\n",
       "    <tr>\n",
       "      <th>10003</th>\n",
       "      <td>NaN</td>\n",
       "      <td>0</td>\n",
       "      <td>199.99</td>\n",
       "      <td>Used</td>\n",
       "      <td>0</td>\n",
       "      <td>None</td>\n",
       "      <td>White</td>\n",
       "      <td>16</td>\n",
       "      <td>iPad 4</td>\n",
       "      <td>1</td>\n",
       "    </tr>\n",
       "    <tr>\n",
       "      <th>10004</th>\n",
       "      <td>NaN</td>\n",
       "      <td>0</td>\n",
       "      <td>235.00</td>\n",
       "      <td>New other (see details)</td>\n",
       "      <td>0</td>\n",
       "      <td>None</td>\n",
       "      <td>Unknown</td>\n",
       "      <td>16</td>\n",
       "      <td>iPad mini 2</td>\n",
       "      <td>0</td>\n",
       "    </tr>\n",
       "    <tr>\n",
       "      <th>10005</th>\n",
       "      <td>Please feel free to buy. All products have bee...</td>\n",
       "      <td>0</td>\n",
       "      <td>199.99</td>\n",
       "      <td>Seller refurbished</td>\n",
       "      <td>Unknown</td>\n",
       "      <td>Unknown</td>\n",
       "      <td>Unknown</td>\n",
       "      <td>Unknown</td>\n",
       "      <td>Unknown</td>\n",
       "      <td>0</td>\n",
       "    </tr>\n",
       "  </tbody>\n",
       "</table>\n",
       "</div>"
      ],
      "text/plain": [
       "                                                description  biddable  \\\n",
       "UniqueID                                                                \n",
       "10001         iPad is in 8.5+ out of 10 cosmetic condition!         0   \n",
       "10002     Previously used, please read description. May ...         1   \n",
       "10003                                                   NaN         0   \n",
       "10004                                                   NaN         0   \n",
       "10005     Please feel free to buy. All products have bee...         0   \n",
       "\n",
       "          startprice                condition cellular  carrier    color  \\\n",
       "UniqueID                                                                   \n",
       "10001         159.99                     Used        0     None    Black   \n",
       "10002           0.99                     Used        1  Verizon  Unknown   \n",
       "10003         199.99                     Used        0     None    White   \n",
       "10004         235.00  New other (see details)        0     None  Unknown   \n",
       "10005         199.99       Seller refurbished  Unknown  Unknown  Unknown   \n",
       "\n",
       "          storage  productline  sold  \n",
       "UniqueID                              \n",
       "10001          16       iPad 2     0  \n",
       "10002          16       iPad 2     1  \n",
       "10003          16       iPad 4     1  \n",
       "10004          16  iPad mini 2     0  \n",
       "10005     Unknown      Unknown     0  "
      ]
     },
     "execution_count": 3,
     "metadata": {},
     "output_type": "execute_result"
    }
   ],
   "source": [
    "iPadTrain.head()"
   ]
  },
  {
   "cell_type": "markdown",
   "metadata": {},
   "source": [
    "### Relationship between starting price and the fact whether iPad got sold or not ?"
   ]
  },
  {
   "cell_type": "code",
   "execution_count": 4,
   "metadata": {
    "collapsed": true
   },
   "outputs": [],
   "source": [
    "sold_iPads = iPadTrain.groupby('sold')"
   ]
  },
  {
   "cell_type": "code",
   "execution_count": 5,
   "metadata": {
    "collapsed": false
   },
   "outputs": [
    {
     "data": {
      "text/plain": [
       "sold\n",
       "0    283.119650\n",
       "1    127.437116\n",
       "Name: startprice, dtype: float64"
      ]
     },
     "execution_count": 5,
     "metadata": {},
     "output_type": "execute_result"
    }
   ],
   "source": [
    "sold_iPads.startprice.mean()"
   ]
  },
  {
   "cell_type": "markdown",
   "metadata": {},
   "source": [
    "<b>Indeed iPads that were listed successfully had lower average starting price.</b>"
   ]
  },
  {
   "cell_type": "code",
   "execution_count": 6,
   "metadata": {
    "collapsed": false
   },
   "outputs": [
    {
     "data": {
      "image/png": "[encoded data removed]",
      "text/plain": [
       "<matplotlib.figure.Figure at 0x10372f10>"
      ]
     },
     "metadata": {},
     "output_type": "display_data"
    }
   ],
   "source": [
    "plt.hist(sold_iPads.get_group(0).startprice.values, label='Not Sold')\n",
    "plt.hist(sold_iPads.get_group(1).startprice.values, label='Sold')\n",
    "plt.legend(loc='best');"
   ]
  },
  {
   "cell_type": "code",
   "execution_count": 7,
   "metadata": {
    "collapsed": false
   },
   "outputs": [
    {
     "data": {
      "image/png": "[encoded data removed]",
      "text/plain": [
       "<matplotlib.figure.Figure at 0x2a1a130>"
      ]
     },
     "metadata": {},
     "output_type": "display_data"
    }
   ],
   "source": [
    "plt.plot(sold_iPads.get_group(0).startprice.values, label='Not Sold')\n",
    "plt.plot(sold_iPads.get_group(1).startprice.values, label='Sold')\n",
    "plt.legend(loc='best');"
   ]
  },
  {
   "cell_type": "markdown",
   "metadata": {},
   "source": [
    "## Lets see class size distribution for two classes ( Sold - 1, Not Sold - 0 )"
   ]
  },
  {
   "cell_type": "code",
   "execution_count": 16,
   "metadata": {
    "collapsed": false
   },
   "outputs": [
    {
     "data": {
      "text/plain": [
       "0    1001\n",
       "1     860\n",
       "dtype: int64"
      ]
     },
     "execution_count": 16,
     "metadata": {},
     "output_type": "execute_result"
    }
   ],
   "source": [
    "iPadTrain.sold.value_counts()"
   ]
  },
  {
   "cell_type": "markdown",
   "metadata": {},
   "source": [
    "<b>So there are a bit more iPads that were not listed successfully.</b>"
   ]
  },
  {
   "cell_type": "markdown",
   "metadata": {},
   "source": [
    "### Lets take a look whether storage has any effect on sales of these iPads"
   ]
  },
  {
   "cell_type": "code",
   "execution_count": 17,
   "metadata": {
    "collapsed": false
   },
   "outputs": [
    {
     "data": {
      "text/plain": [
       "array(['16', 'Unknown', '32', '64', '128'], dtype=object)"
      ]
     },
     "execution_count": 17,
     "metadata": {},
     "output_type": "execute_result"
    }
   ],
   "source": [
    "iPadTrain.storage.unique()"
   ]
  },
  {
   "cell_type": "markdown",
   "metadata": {},
   "source": [
    "<b>16GB, 32GB, 64GB, and 128GB iPads were put on sale.</b>"
   ]
  },
  {
   "cell_type": "code",
   "execution_count": 18,
   "metadata": {
    "collapsed": false
   },
   "outputs": [
    {
     "data": {
      "text/plain": [
       "storage\n",
       "128         68\n",
       "Unknown    110\n",
       "64         167\n",
       "32         183\n",
       "16         473\n",
       "dtype: int64"
      ]
     },
     "execution_count": 18,
     "metadata": {},
     "output_type": "execute_result"
    }
   ],
   "source": [
    "sold_iPads.get_group(0).groupby('storage').size().order()"
   ]
  },
  {
   "cell_type": "code",
   "execution_count": 19,
   "metadata": {
    "collapsed": false
   },
   "outputs": [
    {
     "data": {
      "text/plain": [
       "storage\n",
       "128         22\n",
       "Unknown     73\n",
       "64         147\n",
       "32         157\n",
       "16         461\n",
       "dtype: int64"
      ]
     },
     "execution_count": 19,
     "metadata": {},
     "output_type": "execute_result"
    }
   ],
   "source": [
    "sold_iPads.get_group(1).groupby('storage').size().order()"
   ]
  },
  {
   "cell_type": "markdown",
   "metadata": {},
   "source": [
    "<b>People tend not to buy iPads with 128GB memory storage.</b>"
   ]
  },
  {
   "cell_type": "markdown",
   "metadata": {},
   "source": [
    "## Relationship between biddable and sold"
   ]
  },
  {
   "cell_type": "code",
   "execution_count": 20,
   "metadata": {
    "collapsed": false
   },
   "outputs": [
    {
     "data": {
      "text/plain": [
       "biddable  sold\n",
       "0         0       804\n",
       "          1       220\n",
       "1         0       197\n",
       "          1       640\n",
       "dtype: int64"
      ]
     },
     "execution_count": 20,
     "metadata": {},
     "output_type": "execute_result"
    }
   ],
   "source": [
    "iPadTrain.groupby(['biddable', 'sold']).size()"
   ]
  },
  {
   "cell_type": "markdown",
   "metadata": {},
   "source": [
    "<b>Looks like iPads on which bidding was enabled were listed successfully.</b>"
   ]
  },
  {
   "cell_type": "code",
   "execution_count": 21,
   "metadata": {
    "collapsed": false
   },
   "outputs": [
    {
     "data": {
      "text/plain": [
       "cellular  sold\n",
       "0         0       562\n",
       "          1       545\n",
       "1         0       296\n",
       "          1       224\n",
       "Unknown   0       143\n",
       "          1        91\n",
       "dtype: int64"
      ]
     },
     "execution_count": 21,
     "metadata": {},
     "output_type": "execute_result"
    }
   ],
   "source": [
    "iPadTrain.groupby(['cellular', 'sold']).size()"
   ]
  },
  {
   "cell_type": "markdown",
   "metadata": {},
   "source": [
    "<b>Whether an iPad has cellular service or not does not affect its sales drastically.</b>"
   ]
  },
  {
   "cell_type": "markdown",
   "metadata": {},
   "source": [
    "### Relationship between condition and sold"
   ]
  },
  {
   "cell_type": "code",
   "execution_count": 22,
   "metadata": {
    "collapsed": false
   },
   "outputs": [
    {
     "data": {
      "text/plain": [
       "condition                 sold\n",
       "For parts or not working  0        75\n",
       "                          1       106\n",
       "Manufacturer refurbished  0        25\n",
       "                          1        14\n",
       "New                       0       204\n",
       "                          1        85\n",
       "New other (see details)   0        51\n",
       "                          1        34\n",
       "Seller refurbished        0        74\n",
       "                          1        35\n",
       "Used                      0       572\n",
       "                          1       586\n",
       "dtype: int64"
      ]
     },
     "execution_count": 22,
     "metadata": {},
     "output_type": "execute_result"
    }
   ],
   "source": [
    "iPadTrain.groupby(['condition', 'sold']).size()"
   ]
  },
  {
   "cell_type": "code",
   "execution_count": 23,
   "metadata": {
    "collapsed": false
   },
   "outputs": [
    {
     "data": {
      "text/plain": [
       "count     39.000000\n",
       "mean     275.079231\n",
       "std      172.556251\n",
       "min        0.990000\n",
       "25%      204.920000\n",
       "50%      249.990000\n",
       "75%      319.975000\n",
       "max      795.990000\n",
       "Name: startprice, dtype: float64"
      ]
     },
     "execution_count": 23,
     "metadata": {},
     "output_type": "execute_result"
    }
   ],
   "source": [
    "iPadTrain[iPadTrain.condition == 'Manufacturer refurbished'].startprice.describe()"
   ]
  },
  {
   "cell_type": "markdown",
   "metadata": {},
   "source": [
    "<b>iPads that were refurbished by Manufacturer have higher average starting price.</b>"
   ]
  },
  {
   "cell_type": "code",
   "execution_count": 24,
   "metadata": {
    "collapsed": false
   },
   "outputs": [
    {
     "data": {
      "text/plain": [
       "count    109.000000\n",
       "mean     194.932936\n",
       "std      137.038976\n",
       "min        0.010000\n",
       "25%       99.990000\n",
       "50%      199.990000\n",
       "75%      259.990000\n",
       "max      679.950000\n",
       "Name: startprice, dtype: float64"
      ]
     },
     "execution_count": 24,
     "metadata": {},
     "output_type": "execute_result"
    }
   ],
   "source": [
    "iPadTrain[iPadTrain.condition == 'Seller refurbished'].startprice.describe()"
   ]
  },
  {
   "cell_type": "markdown",
   "metadata": {},
   "source": [
    "<b>iPads that were refurbished by Seller have lower average starting price than the ones refurbished by Manufacturer.</b>"
   ]
  },
  {
   "cell_type": "code",
   "execution_count": 25,
   "metadata": {
    "collapsed": false
   },
   "outputs": [
    {
     "data": {
      "text/plain": [
       "count    1158.000000\n",
       "mean      180.070259\n",
       "std       137.035686\n",
       "min         0.010000\n",
       "25%        80.000000\n",
       "50%       159.970000\n",
       "75%       250.000000\n",
       "max       999.000000\n",
       "Name: startprice, dtype: float64"
      ]
     },
     "execution_count": 25,
     "metadata": {},
     "output_type": "execute_result"
    }
   ],
   "source": [
    "iPadTrain[iPadTrain.condition == 'Used'].startprice.describe()"
   ]
  },
  {
   "cell_type": "markdown",
   "metadata": {},
   "source": [
    "<b>iPads that were marked as Used have lower starting price than the ones that were refurbished by Seller and Manufacturer.</b>"
   ]
  },
  {
   "cell_type": "markdown",
   "metadata": {},
   "source": [
    "## Re-label condition variable"
   ]
  },
  {
   "cell_type": "code",
   "execution_count": 26,
   "metadata": {
    "collapsed": true
   },
   "outputs": [],
   "source": [
    "from sklearn.preprocessing import LabelEncoder"
   ]
  },
  {
   "cell_type": "code",
   "execution_count": 27,
   "metadata": {
    "collapsed": false
   },
   "outputs": [
    {
     "data": {
      "text/plain": [
       "array(['Used', 'New other (see details)', 'Seller refurbished', 'New',\n",
       "       'Manufacturer refurbished', 'For parts or not working'], dtype=object)"
      ]
     },
     "execution_count": 27,
     "metadata": {},
     "output_type": "execute_result"
    }
   ],
   "source": [
    "iPadTrain.condition.unique()"
   ]
  },
  {
   "cell_type": "code",
   "execution_count": 28,
   "metadata": {
    "collapsed": false
   },
   "outputs": [
    {
     "data": {
      "text/plain": [
       "array(['Used', 'Manufacturer refurbished', 'New other (see details)',\n",
       "       'Seller refurbished', 'New', 'For parts or not working'], dtype=object)"
      ]
     },
     "execution_count": 28,
     "metadata": {},
     "output_type": "execute_result"
    }
   ],
   "source": [
    "iPadTest.condition.unique()"
   ]
  },
  {
   "cell_type": "code",
   "execution_count": 29,
   "metadata": {
    "collapsed": true
   },
   "outputs": [],
   "source": [
    "lbl = LabelEncoder().fit(iPadTrain.condition)\n",
    "iPadTrain.condition = lbl.transform(iPadTrain.condition)\n",
    "iPadTest.condition = lbl.transform(iPadTest.condition)"
   ]
  },
  {
   "cell_type": "markdown",
   "metadata": {},
   "source": [
    "### Check to see whether a product with description is listed successfully"
   ]
  },
  {
   "cell_type": "code",
   "execution_count": 30,
   "metadata": {
    "collapsed": true
   },
   "outputs": [],
   "source": [
    "import math"
   ]
  },
  {
   "cell_type": "code",
   "execution_count": 46,
   "metadata": {
    "collapsed": false
   },
   "outputs": [],
   "source": [
    "def check_description(desc):\n",
    "    if type(desc) == float:\n",
    "        return int(not math.isnan(desc))\n",
    "    else:\n",
    "        return 1\n",
    "iPadTrain['has_description'] = iPadTrain.description.map(check_description)"
   ]
  },
  {
   "cell_type": "code",
   "execution_count": 47,
   "metadata": {
    "collapsed": false
   },
   "outputs": [
    {
     "data": {
      "text/plain": [
       "has_description  sold\n",
       "0                0       555\n",
       "                 1       516\n",
       "1                0       446\n",
       "                 1       344\n",
       "dtype: int64"
      ]
     },
     "execution_count": 47,
     "metadata": {},
     "output_type": "execute_result"
    }
   ],
   "source": [
    "iPadTrain.groupby(['has_description', 'sold']).size()"
   ]
  },
  {
   "cell_type": "markdown",
   "metadata": {
    "collapsed": true
   },
   "source": [
    "## Simple logistic regression model"
   ]
  },
  {
   "cell_type": "code",
   "execution_count": 48,
   "metadata": {
    "collapsed": true
   },
   "outputs": [],
   "source": [
    "X = iPadTrain[iPadTrain.columns.drop('sold')]\n",
    "y = iPadTrain.sold"
   ]
  },
  {
   "cell_type": "code",
   "execution_count": 49,
   "metadata": {
    "collapsed": true
   },
   "outputs": [],
   "source": [
    "from sklearn.cross_validation import train_test_split"
   ]
  },
  {
   "cell_type": "code",
   "execution_count": 50,
   "metadata": {
    "collapsed": true
   },
   "outputs": [],
   "source": [
    "Xt, Xv, yt, yv = train_test_split(X, y, test_size=0.3, random_state=0)"
   ]
  },
  {
   "cell_type": "code",
   "execution_count": 51,
   "metadata": {
    "collapsed": true
   },
   "outputs": [],
   "source": [
    "from sklearn.linear_model import LogisticRegression"
   ]
  },
  {
   "cell_type": "code",
   "execution_count": 52,
   "metadata": {
    "collapsed": true
   },
   "outputs": [],
   "source": [
    "features = ['startprice', 'biddable']\n",
    "features_train = Xt[features]\n",
    "features_test = Xv[features]"
   ]
  },
  {
   "cell_type": "code",
   "execution_count": 53,
   "metadata": {
    "collapsed": false
   },
   "outputs": [],
   "source": [
    "est = LogisticRegression(C=10.).fit(features_train, yt)"
   ]
  },
  {
   "cell_type": "code",
   "execution_count": 54,
   "metadata": {
    "collapsed": false
   },
   "outputs": [
    {
     "data": {
      "text/plain": [
       "LogisticRegression(C=10.0, class_weight=None, dual=False, fit_intercept=True,\n",
       "          intercept_scaling=1, max_iter=100, multi_class='ovr',\n",
       "          penalty='l2', random_state=None, solver='liblinear', tol=0.0001,\n",
       "          verbose=0)"
      ]
     },
     "execution_count": 54,
     "metadata": {},
     "output_type": "execute_result"
    }
   ],
   "source": [
    "est"
   ]
  },
  {
   "cell_type": "code",
   "execution_count": 55,
   "metadata": {
    "collapsed": true
   },
   "outputs": [],
   "source": [
    "from sklearn.metrics import roc_auc_score"
   ]
  },
  {
   "cell_type": "code",
   "execution_count": 56,
   "metadata": {
    "collapsed": true
   },
   "outputs": [],
   "source": [
    "yt_pred = est.predict(features_train)"
   ]
  },
  {
   "cell_type": "code",
   "execution_count": 57,
   "metadata": {
    "collapsed": false
   },
   "outputs": [
    {
     "name": "stdout",
     "output_type": "stream",
     "text": [
      "Training score  0.774521360534\n"
     ]
    }
   ],
   "source": [
    "print 'Training score ', roc_auc_score(yt, yt_pred)"
   ]
  },
  {
   "cell_type": "code",
   "execution_count": 58,
   "metadata": {
    "collapsed": true
   },
   "outputs": [],
   "source": [
    "yv_pred = est.predict(features_test)"
   ]
  },
  {
   "cell_type": "code",
   "execution_count": 59,
   "metadata": {
    "collapsed": false
   },
   "outputs": [
    {
     "name": "stdout",
     "output_type": "stream",
     "text": [
      "Test score  0.794741910632\n"
     ]
    }
   ],
   "source": [
    "print 'Test score ', roc_auc_score(yv, yv_pred)"
   ]
  },
  {
   "cell_type": "markdown",
   "metadata": {
    "collapsed": true
   },
   "source": [
    "## Plotting ROC curve"
   ]
  },
  {
   "cell_type": "code",
   "execution_count": 60,
   "metadata": {
    "collapsed": true
   },
   "outputs": [],
   "source": [
    "from sklearn.metrics import roc_curve, auc"
   ]
  },
  {
   "cell_type": "code",
   "execution_count": 61,
   "metadata": {
    "collapsed": true
   },
   "outputs": [],
   "source": [
    "fpr, tpr, _ = roc_curve(yv_pred, yv)"
   ]
  },
  {
   "cell_type": "code",
   "execution_count": 62,
   "metadata": {
    "collapsed": true
   },
   "outputs": [],
   "source": [
    "roc_auc = auc(fpr, tpr)"
   ]
  },
  {
   "cell_type": "code",
   "execution_count": 63,
   "metadata": {
    "collapsed": false
   },
   "outputs": [
    {
     "data": {
      "image/png": "[encoded data removed]",
      "text/plain": [
       "<matplotlib.figure.Figure at 0x10b0ba50>"
      ]
     },
     "metadata": {},
     "output_type": "display_data"
    }
   ],
   "source": [
    "plt.figure()\n",
    "plt.plot(fpr, tpr, label='ROC curve (area= %0.2f)' % roc_auc)\n",
    "plt.plot([0, 1], [0, 1], 'k--')\n",
    "plt.xlim([0.0, 1.0])\n",
    "plt.ylim([0.0, 1.05])\n",
    "plt.xlabel('False Positive Rate')\n",
    "plt.ylabel('True Positive Rate')\n",
    "plt.title('Receiver operating characteristic example')\n",
    "plt.legend(loc=\"lower right\")\n",
    "plt.show();"
   ]
  },
  {
   "cell_type": "code",
   "execution_count": null,
   "metadata": {
    "collapsed": true
   },
   "outputs": [],
   "source": []
  }
 ],
 "metadata": {
  "kernelspec": {
   "display_name": "Python 2",
   "language": "python",
   "name": "python2"
  },
  "language_info": {
   "codemirror_mode": {
    "name": "ipython",
    "version": 2
   },
   "file_extension": ".py",
   "mimetype": "text/x-python",
   "name": "python",
   "nbconvert_exporter": "python",
   "pygments_lexer": "ipython2",
   "version": "2.7.6"
  }
 },
 "nbformat": 4,
 "nbformat_minor": 0
}
